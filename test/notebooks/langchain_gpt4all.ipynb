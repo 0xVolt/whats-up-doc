{
 "cells": [
  {
   "cell_type": "markdown",
   "metadata": {},
   "source": [
    "# Using LangChain with GPT4All and Custom Prompts\n",
    "\n",
    "## References\n",
    "\n",
    "1. [LangChain docs on using the GPT4All library](https://python.langchain.com/docs/integrations/llms/gpt4all)\n",
    "\n",
    "## Code"
   ]
  },
  {
   "cell_type": "markdown",
   "metadata": {},
   "source": [
    "### Import libraries"
   ]
  },
  {
   "cell_type": "code",
   "execution_count": 3,
   "metadata": {},
   "outputs": [],
   "source": [
    "from langchain.llms import GPT4All\n",
    "from langchain.callbacks.streaming_stdout import StreamingStdOutCallbackHandler\n",
    "from langchain.chains import LLMChain\n",
    "from langchain.prompts import PromptTemplate"
   ]
  },
  {
   "cell_type": "markdown",
   "metadata": {},
   "source": [
    "### Setup"
   ]
  },
  {
   "cell_type": "code",
   "execution_count": 4,
   "metadata": {},
   "outputs": [],
   "source": [
    "local_path = r\"C:\\Users\\deshi\\Code\\gpt4all-models\\mistral-7b-instruct-v0.1.Q4_0.gguf\"\n",
    "# local_path = r\"C:\\Users\\deshi\\Code\\gpt4all-models\\orca-mini-3b-gguf2-q4_0.gguf\""
   ]
  },
  {
   "cell_type": "code",
   "execution_count": 5,
   "metadata": {},
   "outputs": [],
   "source": [
    "# Callbacks support token-wise streaming\n",
    "callbacks = [StreamingStdOutCallbackHandler()]\n",
    "\n",
    "# Verbose is required to pass to the callback manager\n",
    "llm = GPT4All(\n",
    "    model=local_path, \n",
    "    callbacks=callbacks, \n",
    "    verbose=True,\n",
    "    max_tokens=512,\n",
    "    n_predict=1024,\n",
    "    n_batch=4\n",
    ")"
   ]
  },
  {
   "cell_type": "markdown",
   "metadata": {},
   "source": [
    "### Standard template"
   ]
  },
  {
   "cell_type": "code",
   "execution_count": 7,
   "metadata": {},
   "outputs": [],
   "source": [
    "template = \"\"\"Question: {question}\n",
    "\n",
    "Answer: Let's think step by step.\"\"\"\n",
    "\n",
    "prompt = PromptTemplate(template=template, input_variables=[\"question\"])"
   ]
  },
  {
   "cell_type": "code",
   "execution_count": 8,
   "metadata": {},
   "outputs": [],
   "source": [
    "llmChain = LLMChain(prompt=prompt, llm=llm)"
   ]
  },
  {
   "cell_type": "markdown",
   "metadata": {},
   "source": [
    "### Regular Inference"
   ]
  },
  {
   "cell_type": "code",
   "execution_count": 9,
   "metadata": {},
   "outputs": [
    {
     "name": "stdout",
     "output_type": "stream",
     "text": [
      " We need to calculate the nth Fibonacci number and also print out all the n Fibonacci numbers leading up to n in a list. \n",
      "\n",
      "The formula for calculating the nth Fibonacci number is as follows:\n",
      "```python\n",
      "fib_n = fib[n-1] + fib[n-2]\n",
      "```\n",
      "where `fib` is a list of the first `n+1` Fibonacci numbers. \n",
      "\n",
      "To calculate all the n Fibonacci numbers leading up to n, we can use a loop and append each number to a list as it's calculated:\n",
      "```python\n",
      "fib = [0, 1] # start with first two Fibonacci numbers\n",
      "for i in range(2, n+1):\n",
      "    fib.append(fib[i-1] + fib[i-2])\n",
      "print(\"Fibonacci Numbers leading up to\", n)\n",
      "print(fib[:n+1]) # print all the Fibonacci numbers up to and including n\n",
      "```\n",
      "Now, let's put it all together in a program:\n",
      "```python\n",
      "# get_input = input(\"Enter an integer: \")\n",
      "    try:\n",
      "        n = int(get_input)\n",
      "    except ValueError:\n",
      "        print(\"Invalid input. Please enter an integer.\")\n",
      "        exit()\n",
      "    \n",
      "    fib = [0, 1] # start with first two Fibonacci numbers\n",
      "    for i in range(2, n+1):\n",
      "        fib.append(fib[i-1] + fib[i-2])\n",
      "        \n",
      "    print(\"Fibonacci Numbers leading up to\", n)\n",
      "    print(fib[:n+1]) # print all the Fibonacci numbers up to and including n\n",
      "```\n",
      "And here's how it will look when run:\n",
      "```markdown\n",
      "Enter an integer: 10\n",
      "Fibonacci Numbers leading up to 10\n",
      "[0, 1, 1, 2, 3, 5, 8]\n",
      "```"
     ]
    },
    {
     "data": {
      "text/plain": [
       "' We need to calculate the nth Fibonacci number and also print out all the n Fibonacci numbers leading up to n in a list. \\n\\nThe formula for calculating the nth Fibonacci number is as follows:\\n```python\\nfib_n = fib[n-1] + fib[n-2]\\n```\\nwhere `fib` is a list of the first `n+1` Fibonacci numbers. \\n\\nTo calculate all the n Fibonacci numbers leading up to n, we can use a loop and append each number to a list as it\\'s calculated:\\n```python\\nfib = [0, 1] # start with first two Fibonacci numbers\\nfor i in range(2, n+1):\\n    fib.append(fib[i-1] + fib[i-2])\\nprint(\"Fibonacci Numbers leading up to\", n)\\nprint(fib[:n+1]) # print all the Fibonacci numbers up to and including n\\n```\\nNow, let\\'s put it all together in a program:\\n```python\\n# get_input = input(\"Enter an integer: \")\\n    try:\\n        n = int(get_input)\\n    except ValueError:\\n        print(\"Invalid input. Please enter an integer.\")\\n        exit()\\n    \\n    fib = [0, 1] # start with first two Fibonacci numbers\\n    for i in range(2, n+1):\\n        fib.append(fib[i-1] + fib[i-2])\\n        \\n    print(\"Fibonacci Numbers leading up to\", n)\\n    print(fib[:n+1]) # print all the Fibonacci numbers up to and including n\\n```\\nAnd here\\'s how it will look when run:\\n```markdown\\nEnter an integer: 10\\nFibonacci Numbers leading up to 10\\n[0, 1, 1, 2, 3, 5, 8]\\n```'"
      ]
     },
     "execution_count": 9,
     "metadata": {},
     "output_type": "execute_result"
    }
   ],
   "source": [
    "question = \"\"\"\n",
    "Write a program to calculate the nth fibonacci number given a user input integer n. Also, print out all the n fibonacci numbers leading upto n in a list. Format the output in markdown format so it is easy to export to a markdown document.\n",
    "\"\"\"\n",
    "\n",
    "llmChain.run(question)"
   ]
  },
  {
   "cell_type": "markdown",
   "metadata": {},
   "source": [
    "### Function Documentation Inference with Standard Template"
   ]
  },
  {
   "cell_type": "code",
   "execution_count": 10,
   "metadata": {},
   "outputs": [],
   "source": [
    "testFunction = \"\"\"\n",
    "n = int(input(\"Enter an integer: \"))\n",
    "result = 0\n",
    "previous_two = 1\n",
    "while result < n:\n",
    "    next_two = previous_two + previous_two\n",
    "    result += next_two\n",
    "    previous_two = next_two\n",
    "    print(\"The nth Fibonacci number is:\", result)\n",
    "\"\"\"\n",
    "\n",
    "question = f\"\"\"\n",
    "Here's my function in Python:\\\n",
    "\n",
    "{testFunction}\\\n",
    "\n",
    "Given the definition of a function in any programming language (particularly Python and C++), please generate it's stand-alone documentation. I want it complete with fields like function name, function arguments and return values as well as a detailed explanation of how the function logic works line-by-line. Make it concise and informative to put the documentation into a project documentation file.\n",
    "\"\"\""
   ]
  },
  {
   "cell_type": "code",
   "execution_count": 11,
   "metadata": {},
   "outputs": [
    {
     "name": "stdout",
     "output_type": "stream",
     "text": [
      " We need to create a Python function that takes an integer input from the user, calculates its Fibonacci sequence using recursion, and returns the nth number in the sequence. Here is how we can do it:\n",
      "\n",
      "```python\n",
      "def fibonacci(n):\n",
      "    \"\"\"\n",
      "    This function calculates the nth Fibonacci number using recursion.\n",
      "\n",
      "    :param n: An integer representing the position of the desired Fibonacci number in the sequence.\n",
      "    :return: The nth Fibonacci number as an integer.\n",
      "    \"\"\"\n",
      "    if n <= 1:\n",
      "        return n\n",
      "    else:\n",
      "        return fibonacci(n-1) + fibonacci(n-2)\n",
      "```\n",
      "\n",
      "Let's break down the function step by step:\n",
      "\n",
      "1. We define a function called `fibonacci()` that takes an integer input parameter `n`. This parameter represents the position of the desired Fibonacci number in the sequence.\n",
      "2. The function uses recursion to calculate the nth Fibonacci number. If `n` is less than or equal to 1, we simply return `n`, since these are the first two numbers in the sequence (0 and 1).\n",
      "3. Otherwise, we call the `fibonacci()` function twice with arguments `n-1` and `n-2`. We add the results of these calls together to get the nth Fibonacci number.\n",
      "4. The function returns the calculated nth Fibonacci number as an integer.\n",
      "\n",
      "Now that we have our function, let's use it in a program:\n",
      "\n",
      "```python\n",
      "n = int(input(\"Enter an integer: \"))\n",
      "result = fibonacci(n)\n",
      "print(\"The nth Fibonacci number is:\", result)\n",
      "```\n",
      "\n",
      "This program prompts the user to enter an integer, calls the `fibonacci()` function with that input, and prints out the resulting Fibonacci number."
     ]
    },
    {
     "data": {
      "text/plain": [
       "' We need to create a Python function that takes an integer input from the user, calculates its Fibonacci sequence using recursion, and returns the nth number in the sequence. Here is how we can do it:\\r\\n\\r\\n```python\\r\\ndef fibonacci(n):\\r\\n    \"\"\"\\r\\n    This function calculates the nth Fibonacci number using recursion.\\r\\n\\r\\n    :param n: An integer representing the position of the desired Fibonacci number in the sequence.\\r\\n    :return: The nth Fibonacci number as an integer.\\r\\n    \"\"\"\\r\\n    if n <= 1:\\r\\n        return n\\r\\n    else:\\r\\n        return fibonacci(n-1) + fibonacci(n-2)\\r\\n```\\r\\n\\r\\nLet\\'s break down the function step by step:\\r\\n\\r\\n1. We define a function called `fibonacci()` that takes an integer input parameter `n`. This parameter represents the position of the desired Fibonacci number in the sequence.\\r\\n2. The function uses recursion to calculate the nth Fibonacci number. If `n` is less than or equal to 1, we simply return `n`, since these are the first two numbers in the sequence (0 and 1).\\r\\n3. Otherwise, we call the `fibonacci()` function twice with arguments `n-1` and `n-2`. We add the results of these calls together to get the nth Fibonacci number.\\r\\n4. The function returns the calculated nth Fibonacci number as an integer.\\r\\n\\r\\nNow that we have our function, let\\'s use it in a program:\\r\\n\\r\\n```python\\r\\nn = int(input(\"Enter an integer: \"))\\r\\nresult = fibonacci(n)\\r\\nprint(\"The nth Fibonacci number is:\", result)\\r\\n```\\r\\n\\r\\nThis program prompts the user to enter an integer, calls the `fibonacci()` function with that input, and prints out the resulting Fibonacci number.'"
      ]
     },
     "execution_count": 11,
     "metadata": {},
     "output_type": "execute_result"
    }
   ],
   "source": [
    "llmChain.run(question)"
   ]
  },
  {
   "cell_type": "markdown",
   "metadata": {},
   "source": [
    "### Custom Prompt Template"
   ]
  },
  {
   "cell_type": "code",
   "execution_count": 6,
   "metadata": {},
   "outputs": [],
   "source": [
    "template = \"\"\"\n",
    "Given the definition of a function in any programming language, please generate it's documentation. The documentation needs to have fields like function name, function arguments and return values as well as a detailed explanation of how the function logic works line-by-line.\n",
    "\n",
    "This is a function in {language}:\n",
    "{function}\n",
    "\n",
    "The response needs to be structured as:\n",
    "\n",
    "# Name of the function:\n",
    "The function definition and body here.\n",
    "# Arguments:\n",
    "List of arguments along with their types. Display them like this:\n",
    ":param n: An integer representing the position of the desired Fibonacci number in the sequence.\n",
    "# Return values:\n",
    "List of all the values returned by the function with their types. Display them like this.\n",
    ":return: The nth Fibonacci number as an integer.\n",
    "# Explanation:\n",
    "Line-by-line explanation of the function's logic and implementation.\n",
    "# Use cases:\n",
    "How the function may be used in an intended context. Provide an example with code.\n",
    "\"\"\"\n",
    "\n",
    "prompt = PromptTemplate(\n",
    "    template=template,\n",
    "    input_variables=[\"language\", \"function\"],\n",
    ")"
   ]
  },
  {
   "cell_type": "code",
   "execution_count": 7,
   "metadata": {},
   "outputs": [],
   "source": [
    "llmChain = LLMChain(\n",
    "    prompt=prompt, \n",
    "    llm=llm,\n",
    ")"
   ]
  },
  {
   "cell_type": "code",
   "execution_count": 9,
   "metadata": {},
   "outputs": [
    {
     "name": "stdout",
     "output_type": "stream",
     "text": [
      "\n",
      "Given the definition of a function in any programming language, please generate it's documentation. The documentation needs to have fields like function name, function arguments and return values as well as a detailed explanation of how the function logic works line-by-line.\n",
      "\n",
      "This is a function in Python:\n",
      "\n",
      "n = int(input(\"Enter an integer: \"))\n",
      "result = 0\n",
      "previous_two = 1\n",
      "while result < n:\n",
      "    next_two = previous_two + previous_two\n",
      "    result += next_two\n",
      "    previous_two = next_two\n",
      "    print(\"The nth Fibonacci number is:\", result)\n",
      "\n",
      "\n",
      "The response needs to be structured as:\n",
      "\n",
      "# Name of the function:\n",
      "The function definition and body here.\n",
      "# Arguments:\n",
      "List of arguments along with their types. Display them like this:\n",
      ":param n: An integer representing the position of the desired Fibonacci number in the sequence.\n",
      "# Return values:\n",
      "List of all the values returned by the function with their types. Display them like this.\n",
      ":return: The nth Fibonacci number as an integer.\n",
      "# Explanation:\n",
      "Line-by-line explanation of the function's logic and implementation.\n",
      "# Use cases:\n",
      "How the function may be used in an intended context. Provide an example with code.\n",
      "\n"
     ]
    }
   ],
   "source": [
    "# Be specific about the language to avoid LLM hallucination\n",
    "language = \"Python\"\n",
    "\n",
    "testFunction = \"\"\"\n",
    "n = int(input(\"Enter an integer: \"))\n",
    "result = 0\n",
    "previous_two = 1\n",
    "while result < n:\n",
    "    next_two = previous_two + previous_two\n",
    "    result += next_two\n",
    "    previous_two = next_two\n",
    "    print(\"The nth Fibonacci number is:\", result)\n",
    "\"\"\"\n",
    "\n",
    "print(prompt.format(language=language, function=testFunction))"
   ]
  },
  {
   "cell_type": "code",
   "execution_count": 10,
   "metadata": {},
   "outputs": [],
   "source": [
    "llmChain.run({\"language\": language, \"function\": testFunction})"
   ]
  },
  {
   "cell_type": "code",
   "execution_count": null,
   "metadata": {},
   "outputs": [],
   "source": []
  }
 ],
 "metadata": {
  "kernelspec": {
   "display_name": "py39-torch",
   "language": "python",
   "name": "python3"
  },
  "language_info": {
   "codemirror_mode": {
    "name": "ipython",
    "version": 3
   },
   "file_extension": ".py",
   "mimetype": "text/x-python",
   "name": "python",
   "nbconvert_exporter": "python",
   "pygments_lexer": "ipython3",
   "version": "3.9.18"
  }
 },
 "nbformat": 4,
 "nbformat_minor": 2
}
