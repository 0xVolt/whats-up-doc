{
 "cells": [
  {
   "cell_type": "markdown",
   "metadata": {},
   "source": [
    "# Using LangChain with GPT4All and Custom Prompts\n",
    "\n",
    "## References\n",
    "\n",
    "1. [LangChain docs on using the GPT4All library](https://python.langchain.com/docs/integrations/llms/gpt4all)\n",
    "\n",
    "## Code"
   ]
  },
  {
   "cell_type": "markdown",
   "metadata": {},
   "source": [
    "### Import libraries"
   ]
  },
  {
   "cell_type": "code",
   "execution_count": 1,
   "metadata": {},
   "outputs": [],
   "source": [
    "from langchain.llms import GPT4All\n",
    "from langchain.callbacks.streaming_stdout import StreamingStdOutCallbackHandler\n",
    "from langchain.chains import LLMChain\n",
    "from langchain.llms import GPT4All\n",
    "from langchain.prompts import PromptTemplate"
   ]
  },
  {
   "cell_type": "markdown",
   "metadata": {},
   "source": [
    "### Setup"
   ]
  },
  {
   "cell_type": "code",
   "execution_count": 2,
   "metadata": {},
   "outputs": [],
   "source": [
    "# local_path = r\"C:\\Users\\deshi\\Code\\gpt4all-models\\mistral-7b-instruct-v0.1.Q4_0.gguf\"\n",
    "local_path = r\"C:\\Users\\deshi\\Code\\gpt4all-models\\orca-mini-3b-gguf2-q4_0.gguf\""
   ]
  },
  {
   "cell_type": "code",
   "execution_count": 3,
   "metadata": {},
   "outputs": [],
   "source": [
    "# Callbacks support token-wise streaming\n",
    "callbacks = [StreamingStdOutCallbackHandler()]\n",
    "\n",
    "# Verbose is required to pass to the callback manager\n",
    "llm = GPT4All(model=local_path, callbacks=callbacks, verbose=True)\n",
    "\n",
    "# If you want to use a custom model add the backend parameter\n",
    "# Check https://docs.gpt4all.io/gpt4all_python.html for supported backends\n",
    "# llm = GPT4All(model=local_path, backend=\"gptj\", callbacks=callbacks, verbose=True)"
   ]
  },
  {
   "cell_type": "markdown",
   "metadata": {},
   "source": [
    "### Standard template"
   ]
  },
  {
   "cell_type": "code",
   "execution_count": 4,
   "metadata": {},
   "outputs": [],
   "source": [
    "template = \"\"\"Question: {question}\n",
    "\n",
    "Answer: Let's think step by step.\"\"\"\n",
    "\n",
    "prompt = PromptTemplate(template=template, input_variables=[\"question\"])"
   ]
  },
  {
   "cell_type": "code",
   "execution_count": 5,
   "metadata": {},
   "outputs": [],
   "source": [
    "llmChain = LLMChain(prompt=prompt, llm=llm)"
   ]
  },
  {
   "cell_type": "markdown",
   "metadata": {},
   "source": [
    "### Regular Inference"
   ]
  },
  {
   "cell_type": "code",
   "execution_count": 6,
   "metadata": {},
   "outputs": [
    {
     "name": "stdout",
     "output_type": "stream",
     "text": [
      " \n",
      "\n",
      "1. We need to write a program that calculates the nth Fibonacci number.\n",
      "2. To do this, we can use a loop to generate the previous two numbers in the sequence and add them together until we reach the desired value of n.\n",
      "3. We can then print out the result using the built-in `print()` function.\n",
      "4. Finally, we need to format the output so that it is easy to export to a markdown document. \n",
      "\n",
      "Here's the code:\n",
      "\n",
      "```python\n",
      "n = int(input(\"Enter an integer: \"))\n",
      "result = 0\n",
      "previous_two = 1\n",
      "while result < n:\n",
      " next_two = previous_two + previous_two\n",
      " result += next_two\n",
      " previous_two = next_two\n",
      " print(\"The nth Fibonacci number is:\", result)\n",
      "```\n",
      "\n",
      "Now let's explain the code step by step. \n",
      "\n",
      "1. We start by taking an integer input from the user using the `int()` function and storing it in a variable called `n`.\n",
      "2. We initialize two variables, `result` and `previous"
     ]
    },
    {
     "data": {
      "text/plain": [
       "' \\n\\n1. We need to write a program that calculates the nth Fibonacci number.\\n2. To do this, we can use a loop to generate the previous two numbers in the sequence and add them together until we reach the desired value of n.\\n3. We can then print out the result using the built-in `print()` function.\\n4. Finally, we need to format the output so that it is easy to export to a markdown document. \\n\\nHere\\'s the code:\\n\\n```python\\nn = int(input(\"Enter an integer: \"))\\nresult = 0\\nprevious_two = 1\\nwhile result < n:\\n next_two = previous_two + previous_two\\n result += next_two\\n previous_two = next_two\\n print(\"The nth Fibonacci number is:\", result)\\n```\\n\\nNow let\\'s explain the code step by step. \\n\\n1. We start by taking an integer input from the user using the `int()` function and storing it in a variable called `n`.\\n2. We initialize two variables, `result` and `previous'"
      ]
     },
     "execution_count": 6,
     "metadata": {},
     "output_type": "execute_result"
    }
   ],
   "source": [
    "question = \"\"\"\n",
    "Write a program to calculate the nth fibonacci number given a user input integer n. Also, print out all the n fibonacci numbers leading upto n in a list. Format the output in markdown format so it is easy to export to a markdown document.\n",
    "\"\"\"\n",
    "\n",
    "llmChain.run(question)"
   ]
  },
  {
   "cell_type": "markdown",
   "metadata": {},
   "source": [
    "### Function Documentation Inference with Standard Template"
   ]
  },
  {
   "cell_type": "code",
   "execution_count": 7,
   "metadata": {},
   "outputs": [],
   "source": [
    "testFunction = \"\"\"\n",
    "n = int(input(\"Enter an integer: \"))\n",
    "result = 0\n",
    "previous_two = 1\n",
    "while result < n:\n",
    "    next_two = previous_two + previous_two\n",
    "    result += next_two\n",
    "    previous_two = next_two\n",
    "    print(\"The nth Fibonacci number is:\", result)\n",
    "\"\"\"\n",
    "\n",
    "question = f\"\"\"\n",
    "Here's my function in Python:\\\n",
    "\n",
    "{testFunction}\\\n",
    "\n",
    "Given the definition of a function in any programming language (particularly Python and C++), please generate it's stand-alone documentation. I want it complete with fields like function name, function arguments and return values as well as a detailed explanation of how the function logic works line-by-line. Make it concise and informative to put the documentation into a project documentation file.\n",
    "\"\"\""
   ]
  },
  {
   "cell_type": "code",
   "execution_count": 8,
   "metadata": {},
   "outputs": [
    {
     "name": "stdout",
     "output_type": "stream",
     "text": [
      " \n",
      "\n",
      "1. Define the function: \n",
      "```python\n",
      "def fibonacci(n):\n",
      " result = 0\n",
      " previous_two = 1\n",
      " while result < n:\n",
      " next_two = previous_two + previous_two\n",
      " result += next_two\n",
      " previous_two = next_two\n",
      " print(\"The nth Fibonacci number is:\", result)\n",
      "```\n",
      "\n",
      "2. Call the function and pass an integer argument: \n",
      "```python\n",
      "fibonacci(5) # Output: The 5th Fibonacci number is: 13\n",
      "```\n",
      "\n",
      "3. Explain how the function works step by step:\n",
      "- `result = 0` initializes the variable `result` to 0.\n",
      "- `previous_two = 1` sets the value of `previous_two` to 1.\n",
      "- `while result < n` checks if the current value of `result` is less than the input parameter `n`.\n",
      "- `next_two = previous_two + previous_two` calculates the next two numbers in the sequence by adding the previous two values together.\n",
      "- `result"
     ]
    },
    {
     "data": {
      "text/plain": [
       "' \\n\\n1. Define the function: \\n```python\\ndef fibonacci(n):\\n result = 0\\n previous_two = 1\\n while result < n:\\n next_two = previous_two + previous_two\\n result += next_two\\n previous_two = next_two\\n print(\"The nth Fibonacci number is:\", result)\\n```\\n\\n2. Call the function and pass an integer argument: \\n```python\\nfibonacci(5) # Output: The 5th Fibonacci number is: 13\\n```\\n\\n3. Explain how the function works step by step:\\n- `result = 0` initializes the variable `result` to 0.\\n- `previous_two = 1` sets the value of `previous_two` to 1.\\n- `while result < n` checks if the current value of `result` is less than the input parameter `n`.\\n- `next_two = previous_two + previous_two` calculates the next two numbers in the sequence by adding the previous two values together.\\n- `result'"
      ]
     },
     "execution_count": 8,
     "metadata": {},
     "output_type": "execute_result"
    }
   ],
   "source": [
    "llmChain.run(question)"
   ]
  },
  {
   "cell_type": "markdown",
   "metadata": {},
   "source": [
    "### Custom Prompt Template"
   ]
  },
  {
   "cell_type": "code",
   "execution_count": 19,
   "metadata": {},
   "outputs": [],
   "source": [
    "template = \"\"\"\n",
    "Here's my function in {language}:\n",
    "{function}\n",
    "Given the definition of a function in any programming language (particularly Python and C++), please generate it's stand-alone documentation. I want it complete with fields like function name, function arguments and return values as well as a detailed explanation of how the function logic works line-by-line. Make it concise and informative to put the documentation into a project documentation file.\n",
    "\"\"\"\n",
    "\n",
    "customTemplate = PromptTemplate(\n",
    "    template=template,\n",
    "    input_variables=[\"language\", \"function\"],\n",
    ")"
   ]
  },
  {
   "cell_type": "code",
   "execution_count": 20,
   "metadata": {},
   "outputs": [],
   "source": [
    "llmChain = LLMChain(prompt=customTemplate, llm=llm)"
   ]
  },
  {
   "cell_type": "code",
   "execution_count": 21,
   "metadata": {},
   "outputs": [
    {
     "name": "stdout",
     "output_type": "stream",
     "text": [
      "\n",
      "Here's my function in Python Programming Language:\n",
      "\n",
      "n = int(input(\"Enter an integer: \"))\n",
      "result = 0\n",
      "previous_two = 1\n",
      "while result < n:\n",
      "    next_two = previous_two + previous_two\n",
      "    result += next_two\n",
      "    previous_two = next_two\n",
      "    print(\"The nth Fibonacci number is:\", result)\n",
      "\n",
      "Given the definition of a function in any programming language (particularly Python and C++), please generate it's stand-alone documentation. I want it complete with fields like function name, function arguments and return values as well as a detailed explanation of how the function logic works line-by-line. Make it concise and informative to put the documentation into a project documentation file.\n",
      "\n"
     ]
    }
   ],
   "source": [
    "# Be specific about the language to avoid LLM hallucination\n",
    "language = \"Python Programming Language\"\n",
    "\n",
    "print(customTemplate.format(language=language, function=testFunction))"
   ]
  },
  {
   "cell_type": "code",
   "execution_count": 26,
   "metadata": {},
   "outputs": [],
   "source": [
    "llmChain.run({\"language\": language, \"function\": testFunction})"
   ]
  },
  {
   "cell_type": "code",
   "execution_count": null,
   "metadata": {},
   "outputs": [],
   "source": []
  }
 ],
 "metadata": {
  "kernelspec": {
   "display_name": "py39-torch",
   "language": "python",
   "name": "python3"
  },
  "language_info": {
   "codemirror_mode": {
    "name": "ipython",
    "version": 3
   },
   "file_extension": ".py",
   "mimetype": "text/x-python",
   "name": "python",
   "nbconvert_exporter": "python",
   "pygments_lexer": "ipython3",
   "version": "3.9.18"
  }
 },
 "nbformat": 4,
 "nbformat_minor": 2
}
