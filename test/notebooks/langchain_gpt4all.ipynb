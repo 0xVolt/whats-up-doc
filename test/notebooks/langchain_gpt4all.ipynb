{
 "cells": [
  {
   "cell_type": "code",
   "execution_count": 1,
   "metadata": {},
   "outputs": [],
   "source": [
    "from langchain.llms import GPT4All"
   ]
  },
  {
   "cell_type": "code",
   "execution_count": 2,
   "metadata": {},
   "outputs": [],
   "source": [
    "model = GPT4All(\n",
    "            model=r\"C:\\Users\\deshi\\Code\\gpt4all-models\\orca-mini-3b-gguf2-q4_0.gguf\",\n",
    "            n_threads=8\n",
    "        )"
   ]
  },
  {
   "cell_type": "code",
   "execution_count": 5,
   "metadata": {},
   "outputs": [
    {
     "data": {
      "text/plain": [
       "'Here\\'s my function in Python: \\n\\ndef get_llama_response(prompt: str) -> None:\\n    \\'\\'\\'\\n    Generate a response from the Llama model.\\n\\n    Parameters:\\n        prompt (str): The user\\'s input/question for the model.\\n\\n    Returns:\\n        None: Prints the model\\'s response.\\n    \\'\\'\\'\\n    sequences = llama_pipeline(\\n        prompt,\\n        do_sample=True,\\n        top_k=10,\\n        num_return_sequences=1,\\n        eos_token_id=tokenizer.eos_token_id,\\n        max_length=256,\\n    )\\n    print(\"Chatbot:\", sequences[0][\\'generated_text\\'])\\n\\nGiven the definition of a function in any programming language (particularly Python and C++), please generate it\\'s stand-alone documentation. I want it complete with fields like function name, function arguments and return values as well as a detailed explanation of how the function logic works line-by-line. Make it concise and informative to put the documentation into a project documentation file.'"
      ]
     },
     "execution_count": 5,
     "metadata": {},
     "output_type": "execute_result"
    }
   ],
   "source": [
    "with open(r\"C:\\Users\\deshi\\Code\\whats-up-doc\\assets\\test_prompt.txt\", \"r\") as file:\n",
    "    prompt = file.read()\n",
    "\n",
    "prompt"
   ]
  },
  {
   "cell_type": "code",
   "execution_count": 4,
   "metadata": {},
   "outputs": [],
   "source": [
    "response = model(prompt)"
   ]
  },
  {
   "cell_type": "code",
   "execution_count": 6,
   "metadata": {},
   "outputs": [
    {
     "data": {
      "text/plain": [
       "''"
      ]
     },
     "execution_count": 6,
     "metadata": {},
     "output_type": "execute_result"
    }
   ],
   "source": [
    "response"
   ]
  }
 ],
 "metadata": {
  "kernelspec": {
   "display_name": "py39-torch",
   "language": "python",
   "name": "python3"
  },
  "language_info": {
   "codemirror_mode": {
    "name": "ipython",
    "version": 3
   },
   "file_extension": ".py",
   "mimetype": "text/x-python",
   "name": "python",
   "nbconvert_exporter": "python",
   "pygments_lexer": "ipython3",
   "version": "3.9.18"
  }
 },
 "nbformat": 4,
 "nbformat_minor": 2
}
