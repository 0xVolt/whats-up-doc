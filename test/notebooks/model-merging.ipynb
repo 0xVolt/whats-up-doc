{
  "cells": [
    {
      "cell_type": "markdown",
      "metadata": {
        "id": "view-in-github",
        "colab_type": "text"
      },
      "source": [
        "<a href=\"https://colab.research.google.com/github/0xVolt/whats-up-doc/blob/main/test/notebooks/model-merging.ipynb\" target=\"_parent\"><img src=\"https://colab.research.google.com/assets/colab-badge.svg\" alt=\"Open In Colab\"/></a>"
      ]
    },
    {
      "cell_type": "markdown",
      "source": [
        "# Merging CodeLLMs to Create an Efficant Low-Memory Quantized Model for `whats-up-doc`\n",
        "\n",
        "## Download and Install `mergekit`"
      ],
      "metadata": {
        "id": "dM0FHFhyY2g2"
      }
    },
    {
      "cell_type": "code",
      "execution_count": null,
      "metadata": {
        "id": "NPNPie5Eo3EZ",
        "outputId": "62ec3dad-6d6a-4882-cd68-8f4a6b3f9c40",
        "colab": {
          "base_uri": "https://localhost:8080/"
        }
      },
      "outputs": [
        {
          "output_type": "stream",
          "name": "stdout",
          "text": [
            "fatal: destination path 'mergekit' already exists and is not an empty directory.\n",
            "  Installing build dependencies ... \u001b[?25l\u001b[?25hdone\n",
            "  Checking if build backend supports build_editable ... \u001b[?25l\u001b[?25hdone\n",
            "  Getting requirements to build editable ... \u001b[?25l\u001b[?25hdone\n",
            "  Installing backend dependencies ... \u001b[?25l\u001b[?25hdone\n",
            "  Preparing editable metadata (pyproject.toml) ... \u001b[?25l\u001b[?25hdone\n"
          ]
        }
      ],
      "source": [
        "!git clone https://github.com/cg123/mergekit.git\n",
        "!cd mergekit && pip install -q -e ."
      ]
    },
    {
      "cell_type": "markdown",
      "source": [
        "## Create the YAML Config File to Merge Models with SLERP"
      ],
      "metadata": {
        "id": "rU1g6RzPKt5s"
      }
    },
    {
      "cell_type": "code",
      "execution_count": null,
      "metadata": {
        "id": "ezsCJA5DX9eQ"
      },
      "outputs": [],
      "source": [
        "import yaml"
      ]
    },
    {
      "cell_type": "markdown",
      "source": [
        "### Write Config Script"
      ],
      "metadata": {
        "id": "VHwE6E7cLLOx"
      }
    },
    {
      "cell_type": "code",
      "source": [
        "# Set model name\n",
        "MODEL_NAME = 'whats-up-llamas'"
      ],
      "metadata": {
        "id": "4zrN0st2U1_O"
      },
      "execution_count": null,
      "outputs": []
    },
    {
      "cell_type": "markdown",
      "source": [
        "#### SLERP"
      ],
      "metadata": {
        "id": "GXSSc9McU7mn"
      }
    },
    {
      "cell_type": "code",
      "source": [
        "# Write YAML config string\n",
        "yamlConfigSLERP = \"\"\"\n",
        "slices:\n",
        "  - sources:\n",
        "      - model: meta-llama/Meta-Llama-3-8B-Instruct\n",
        "        layer_range: [0, 32]\n",
        "      - model: codellama/CodeLlama-7b-Instruct-hf\n",
        "        layer_range: [0, 32]\n",
        "merge_method: slerp\n",
        "base_model: codellama/CodeLlama-7b-Instruct-hf\n",
        "parameters:\n",
        "  t:\n",
        "    - filter: self_attn\n",
        "      value: [0, 0.5, 0.3, 0.7, 1]\n",
        "    - filter: mlp\n",
        "      value: [1, 0.5, 0.7, 0.3, 0]\n",
        "    - value: 0.5\n",
        "dtype: bfloat16\n",
        "\n",
        "\"\"\""
      ],
      "metadata": {
        "id": "J6CCJS-OJ_a3"
      },
      "execution_count": null,
      "outputs": []
    },
    {
      "cell_type": "markdown",
      "source": [
        "#### Passthrough"
      ],
      "metadata": {
        "id": "nlTfKB0CVD9m"
      }
    },
    {
      "cell_type": "code",
      "source": [
        "yamlConfigPassthrough = \"\"\"\n",
        "slices:\n",
        "  - sources:\n",
        "    - model: meta-llama/Meta-Llama-3-8B-Instruct\n",
        "      layer_range: [0, 32]\n",
        "  - sources:\n",
        "    - model: codellama/CodeLlama-7b-Instruct-hf\n",
        "      layer_range: [24, 32]\n",
        "merge_method: passthrough\n",
        "dtype: bfloat16\n",
        "\n",
        "\"\"\""
      ],
      "metadata": {
        "id": "wo_0qYbaVFfM"
      },
      "execution_count": null,
      "outputs": []
    },
    {
      "cell_type": "markdown",
      "source": [
        "*Note: If you were to do this locally, instead of putting in the models' card name under `model`, you would specify the path to the model you downloaded from huggingface.*"
      ],
      "metadata": {
        "id": "_cnNGANPLhTa"
      }
    },
    {
      "cell_type": "markdown",
      "source": [
        "### Save Config Script"
      ],
      "metadata": {
        "id": "fT4cHC-9LPLO"
      }
    },
    {
      "cell_type": "code",
      "source": [
        "# Save config string as a YAML file\n",
        "with open('config.yaml', 'w', encoding=\"utf-8\") as fout:\n",
        "    fout.write(yamlConfigSLERP)"
      ],
      "metadata": {
        "id": "bbM67mmSK89H"
      },
      "execution_count": null,
      "outputs": []
    },
    {
      "cell_type": "markdown",
      "source": [
        "## Merge Models"
      ],
      "metadata": {
        "id": "ked5Gn7NLXuw"
      }
    },
    {
      "cell_type": "code",
      "source": [
        "# Merge models\n",
        "!mergekit-yaml config.yaml merge --copy-tokenizer --allow-crimes --out-shard-size 1B --lazy-unpickle"
      ],
      "metadata": {
        "id": "vzHfyGtNLFAB"
      },
      "execution_count": null,
      "outputs": []
    }
  ],
  "metadata": {
    "kernelspec": {
      "display_name": "Python 3",
      "name": "python3"
    },
    "language_info": {
      "codemirror_mode": {
        "name": "ipython",
        "version": 3
      },
      "file_extension": ".py",
      "mimetype": "text/x-python",
      "name": "python",
      "nbconvert_exporter": "python",
      "pygments_lexer": "ipython3",
      "version": "3.12.2"
    },
    "colab": {
      "provenance": [],
      "include_colab_link": true
    }
  },
  "nbformat": 4,
  "nbformat_minor": 0
}