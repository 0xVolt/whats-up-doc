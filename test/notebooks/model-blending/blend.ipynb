{
  "cells": [
    {
      "cell_type": "markdown",
      "metadata": {
        "colab_type": "text",
        "id": "view-in-github"
      },
      "source": [
        "<a href=\"https://colab.research.google.com/github/0xVolt/whats-up-doc/blob/main/test/notebooks/model-blending/blend.ipynb\" target=\"_parent\"><img src=\"https://colab.research.google.com/assets/colab-badge.svg\" alt=\"Open In Colab\"/></a>"
      ]
    },
    {
      "cell_type": "markdown",
      "metadata": {
        "id": "dM0FHFhyY2g2"
      },
      "source": [
        "# Merging CodeLLMs to Create an Efficant Low-Memory Quantized Model for `whats-up-doc`\n",
        "\n",
        "## Download and Install `mergekit`"
      ]
    },
    {
      "cell_type": "code",
      "execution_count": 1,
      "metadata": {
        "colab": {
          "base_uri": "https://localhost:8080/"
        },
        "id": "NPNPie5Eo3EZ",
        "outputId": "b262d7b3-9f30-4725-a9db-7711af5ae836"
      },
      "outputs": [],
      "source": [
        "import os\n",
        "\n",
        "dirName = \"mergekit\"\n",
        "cwd = os.getcwd()\n",
        "\n",
        "concatDirPath = os.path.join(cwd, dirName)\n",
        "\n",
        "if not os.path.exists(concatDirPath):\n",
        "    !git clone https://github.com/cg123/mergekit.git\n",
        "    !cd mergekit && pip install -q -e ."
      ]
    },
    {
      "cell_type": "markdown",
      "metadata": {
        "id": "rU1g6RzPKt5s"
      },
      "source": [
        "## Create the YAML Config File to Merge Models with SLERP"
      ]
    },
    {
      "cell_type": "code",
      "execution_count": 2,
      "metadata": {
        "id": "ezsCJA5DX9eQ"
      },
      "outputs": [
        {
          "name": "stderr",
          "output_type": "stream",
          "text": [
            "c:\\Users\\deshi\\anaconda3\\envs\\whats-up-doc\\Lib\\site-packages\\tqdm\\auto.py:21: TqdmWarning: IProgress not found. Please update jupyter and ipywidgets. See https://ipywidgets.readthedocs.io/en/stable/user_install.html\n",
            "  from .autonotebook import tqdm as notebook_tqdm\n"
          ]
        }
      ],
      "source": [
        "import os\n",
        "import yaml\n",
        "from transformers import AutoModelWithLMHead, AutoTokenizer, pipeline"
      ]
    },
    {
      "cell_type": "code",
      "execution_count": 3,
      "metadata": {
        "colab": {
          "base_uri": "https://localhost:8080/"
        },
        "id": "RMb9YxyUUbaF",
        "outputId": "b94ec400-b1c3-42cf-b392-b07516aaee43"
      },
      "outputs": [
        {
          "name": "stdout",
          "output_type": "stream",
          "text": [
            "Requirement already satisfied: huggingface-cli in c:\\users\\deshi\\anaconda3\\envs\\whats-up-doc\\lib\\site-packages (0.1)\n",
            "Note: you may need to restart the kernel to use updated packages.\n"
          ]
        }
      ],
      "source": [
        "%pip install huggingface-cli"
      ]
    },
    {
      "cell_type": "code",
      "execution_count": 6,
      "metadata": {
        "colab": {
          "base_uri": "https://localhost:8080/"
        },
        "id": "FMArOq3PUdxZ",
        "outputId": "c04be935-e9e2-46cb-9afa-152598f6191e"
      },
      "outputs": [
        {
          "name": "stderr",
          "output_type": "stream",
          "text": [
            "UsageError: Line magic function `%huggingface-cli` not found.\n"
          ]
        }
      ],
      "source": [
        "%huggingface-cli login"
      ]
    },
    {
      "cell_type": "markdown",
      "metadata": {
        "id": "VHwE6E7cLLOx"
      },
      "source": [
        "### Write Config Script"
      ]
    },
    {
      "cell_type": "code",
      "execution_count": null,
      "metadata": {
        "id": "4zrN0st2U1_O"
      },
      "outputs": [],
      "source": [
        "# Set the resultant model's name\n",
        "MODEL_NAME = 'whats-up-llamas'\n",
        "\n",
        "MODEL_1 = \"codellama/CodeLlama-7b-Instruct-hf\"\n",
        "MODEL_2 = \"meta-llama/Meta-Llama-3-8B-Instruct\"\n",
        "\n",
        "OUTPUT_DIR = \"merged_model\""
      ]
    },
    {
      "cell_type": "markdown",
      "metadata": {
        "id": "GXSSc9McU7mn"
      },
      "source": [
        "#### SLERP"
      ]
    },
    {
      "cell_type": "code",
      "execution_count": null,
      "metadata": {
        "id": "pxShzshZPS7Y"
      },
      "outputs": [],
      "source": [
        "yamlConfigSLERPLlamas = f\"\"\"\n",
        "slices:\n",
        "  - sources:\n",
        "      - model: {MODEL_1}\n",
        "        layer_range: [0, 32]\n",
        "      - model: {MODEL_2}\n",
        "        layer_range: [0, 32]\n",
        "merge_method: slerp\n",
        "base_model: {MODEL_1}\n",
        "parameters:\n",
        "  t:\n",
        "    - filter: self_attn\n",
        "      value: [0, 0.5, 0.3, 0.7, 1]\n",
        "    - filter: mlp\n",
        "      value: [1, 0.5, 0.7, 0.3, 0]\n",
        "    - value: 0.5\n",
        "dtype: float32\n",
        "\"\"\""
      ]
    },
    {
      "cell_type": "markdown",
      "metadata": {
        "id": "nlTfKB0CVD9m"
      },
      "source": [
        "#### Passthrough"
      ]
    },
    {
      "cell_type": "code",
      "execution_count": null,
      "metadata": {
        "id": "wo_0qYbaVFfM"
      },
      "outputs": [],
      "source": [
        "yamlConfigPassthrough = \"\"\"\n",
        "slices:\n",
        "  - sources:\n",
        "    - model: OpenPipe/mistral-ft-optimized-1218\n",
        "      layer_range: [0, 32]\n",
        "  - sources:\n",
        "    - model: mlabonne/NeuralHermes-2.5-Mistral-7B\n",
        "      layer_range: [24, 32]\n",
        "merge_method: passthrough\n",
        "dtype: bfloat16\n",
        "\n",
        "\"\"\""
      ]
    },
    {
      "cell_type": "markdown",
      "metadata": {
        "id": "_cnNGANPLhTa"
      },
      "source": [
        "*Note: If you were to do this locally, instead of putting in the models' card name under `model`, you would specify the path to the model you downloaded from huggingface.*"
      ]
    },
    {
      "cell_type": "markdown",
      "metadata": {
        "id": "ltwEFfdUkqXG"
      },
      "source": [
        "#### DARE-TIES"
      ]
    },
    {
      "cell_type": "code",
      "execution_count": null,
      "metadata": {
        "id": "tOafmTvbkhM8"
      },
      "outputs": [],
      "source": [
        "yamlConfigDARETIESLlamas = f\"\"\"\n",
        "models:\n",
        "    # No parameters necessary for base model\n",
        "  - model: {MODEL_1}\n",
        "  - model: {MODEL_2}\n",
        "    parameters:\n",
        "      density: 0.53\n",
        "      weight: 0.4\n",
        "merge_method: dare_ties\n",
        "base_model: {MODEL_1}\n",
        "parameters:\n",
        "  int8_mask: true\n",
        "dtype: bfloat16\n",
        "\n",
        "\"\"\""
      ]
    },
    {
      "cell_type": "markdown",
      "metadata": {
        "id": "fT4cHC-9LPLO"
      },
      "source": [
        "### Save Config Script"
      ]
    },
    {
      "cell_type": "code",
      "execution_count": null,
      "metadata": {
        "id": "mA1SMKrgQH39"
      },
      "outputs": [],
      "source": [
        "# Save the YAML configuration to a file\n",
        "yamlFileName = \"config.yaml\"\n",
        "with open(yamlFileName, \"w\") as f:\n",
        "    f.write(yamlConfigDARETIESLlamas)"
      ]
    },
    {
      "cell_type": "markdown",
      "metadata": {
        "id": "ked5Gn7NLXuw"
      },
      "source": [
        "## Merge Models"
      ]
    },
    {
      "cell_type": "code",
      "execution_count": null,
      "metadata": {
        "colab": {
          "base_uri": "https://localhost:8080/"
        },
        "id": "o8XlZ9UmSfdS",
        "outputId": "c1b1f3f9-a2ce-40e3-8eae-c5166e347587"
      },
      "outputs": [],
      "source": [
        "cmd = f\"mergekit-yaml {yamlFileName} {OUTPUT_DIR} --allow-crimes --copy-tokenizer --out-shard-size 1B --low-cpu-memory --write-model-card --lazy-unpickle\"\n",
        "!{cmd}"
      ]
    }
  ],
  "metadata": {
    "accelerator": "GPU",
    "colab": {
      "gpuType": "T4",
      "include_colab_link": true,
      "provenance": []
    },
    "kernelspec": {
      "display_name": "Python 3",
      "name": "python3"
    },
    "language_info": {
      "codemirror_mode": {
        "name": "ipython",
        "version": 3
      },
      "file_extension": ".py",
      "mimetype": "text/x-python",
      "name": "python",
      "nbconvert_exporter": "python",
      "pygments_lexer": "ipython3",
      "version": "3.12.2"
    }
  },
  "nbformat": 4,
  "nbformat_minor": 0
}
