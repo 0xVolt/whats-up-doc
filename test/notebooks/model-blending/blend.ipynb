{
  "cells": [
    {
      "cell_type": "markdown",
      "metadata": {
        "id": "view-in-github",
        "colab_type": "text"
      },
      "source": [
        "<a href=\"https://colab.research.google.com/github/0xVolt/whats-up-doc/blob/main/test/notebooks/model-blending/blend.ipynb\" target=\"_parent\"><img src=\"https://colab.research.google.com/assets/colab-badge.svg\" alt=\"Open In Colab\"/></a>"
      ]
    },
    {
      "cell_type": "markdown",
      "metadata": {
        "id": "dM0FHFhyY2g2"
      },
      "source": [
        "# Merging CodeLLMs to Create an Efficant Low-Memory Quantized Model for `whats-up-doc`\n",
        "\n",
        "## Download and Install `mergekit`"
      ]
    },
    {
      "cell_type": "code",
      "execution_count": null,
      "metadata": {
        "colab": {
          "base_uri": "https://localhost:8080/"
        },
        "id": "NPNPie5Eo3EZ",
        "outputId": "81c03e27-4a78-4583-824c-fd42b1324627"
      },
      "outputs": [
        {
          "output_type": "stream",
          "name": "stdout",
          "text": [
            "Cloning into 'mergekit'...\n",
            "remote: Enumerating objects: 2265, done.\u001b[K\n",
            "remote: Counting objects: 100% (1354/1354), done.\u001b[K\n",
            "remote: Compressing objects: 100% (520/520), done.\u001b[K\n",
            "remote: Total 2265 (delta 1081), reused 947 (delta 833), pack-reused 911\u001b[K\n",
            "Receiving objects: 100% (2265/2265), 640.50 KiB | 2.72 MiB/s, done.\n",
            "Resolving deltas: 100% (1584/1584), done.\n",
            "  Installing build dependencies ... \u001b[?25l\u001b[?25hdone\n",
            "  Checking if build backend supports build_editable ... \u001b[?25l\u001b[?25hdone\n",
            "  Getting requirements to build editable ... \u001b[?25l\u001b[?25hdone\n"
          ]
        }
      ],
      "source": [
        "!git clone https://github.com/cg123/mergekit.git\n",
        "!cd mergekit && pip install -q -e ."
      ]
    },
    {
      "cell_type": "markdown",
      "metadata": {
        "id": "rU1g6RzPKt5s"
      },
      "source": [
        "## Create the YAML Config File to Merge Models with SLERP"
      ]
    },
    {
      "cell_type": "code",
      "execution_count": null,
      "metadata": {
        "id": "ezsCJA5DX9eQ"
      },
      "outputs": [],
      "source": [
        "import os\n",
        "import yaml\n",
        "from transformers import AutoModelWithLMHead, AutoTokenizer, pipeline"
      ]
    },
    {
      "cell_type": "markdown",
      "metadata": {
        "id": "VHwE6E7cLLOx"
      },
      "source": [
        "### Write Config Script"
      ]
    },
    {
      "cell_type": "code",
      "execution_count": null,
      "metadata": {
        "id": "4zrN0st2U1_O"
      },
      "outputs": [],
      "source": [
        "# Set the resultant model's name\n",
        "MODEL_NAME = 'whats-up-llamas'\n",
        "\n",
        "MODEL_1 = \"codellama/CodeLlama-7b-Instruct-hf\"\n",
        "MODEL_2 = \"meta-llama/Meta-Llama-3-8B-Instruct\"\n",
        "\n",
        "OUTPUT_DIR = \"merged_models\"\n",
        "\n",
        "LAYERS_MODEL_1 = list(range(0, 32))  # Layer range for MODEL_1\n",
        "LAYERS_MODEL_2 = list(range(0, 24))  # Layer range for MODEL_2"
      ]
    },
    {
      "cell_type": "markdown",
      "metadata": {
        "id": "GXSSc9McU7mn"
      },
      "source": [
        "#### SLERP"
      ]
    },
    {
      "cell_type": "code",
      "source": [
        "yamlConfigSLERPLlamas = f\"\"\"\n",
        "slices:\n",
        "  - sources:\n",
        "      - model: {MODEL_1}\n",
        "        layer_range: {LAYERS_MODEL_1}\n",
        "      - model: {MODEL_2}\n",
        "        layer_range: {LAYERS_MODEL_2}\n",
        "merge_method: slerp\n",
        "base_model: {MODEL_1}\n",
        "parameters:\n",
        "  t:\n",
        "    - filter: self_attn\n",
        "      value: [0, 0.5, 0.3, 0.7, 1]\n",
        "    - filter: mlp\n",
        "      value: [1, 0.5, 0.7, 0.3, 0]\n",
        "  # Set the interpolation coefficient (0 for CodeLlama, 1 for Meta-Llama-3)\n",
        "  slerp_coeff: 0.5\n",
        "dtype: float16\n",
        "\"\"\""
      ],
      "metadata": {
        "id": "pxShzshZPS7Y"
      },
      "execution_count": null,
      "outputs": []
    },
    {
      "cell_type": "markdown",
      "metadata": {
        "id": "nlTfKB0CVD9m"
      },
      "source": [
        "#### Passthrough"
      ]
    },
    {
      "cell_type": "code",
      "execution_count": null,
      "metadata": {
        "id": "wo_0qYbaVFfM"
      },
      "outputs": [],
      "source": [
        "yamlConfigPassthrough = \"\"\"\n",
        "slices:\n",
        "  - sources:\n",
        "    - model: OpenPipe/mistral-ft-optimized-1218\n",
        "      layer_range: [0, 32]\n",
        "  - sources:\n",
        "    - model: mlabonne/NeuralHermes-2.5-Mistral-7B\n",
        "      layer_range: [24, 32]\n",
        "merge_method: passthrough\n",
        "dtype: bfloat16\n",
        "\n",
        "\"\"\""
      ]
    },
    {
      "cell_type": "markdown",
      "metadata": {
        "id": "_cnNGANPLhTa"
      },
      "source": [
        "*Note: If you were to do this locally, instead of putting in the models' card name under `model`, you would specify the path to the model you downloaded from huggingface.*"
      ]
    },
    {
      "cell_type": "markdown",
      "metadata": {
        "id": "fT4cHC-9LPLO"
      },
      "source": [
        "### Save Config Script"
      ]
    },
    {
      "cell_type": "code",
      "source": [
        "# Save the YAML configuration to a file\n",
        "yamlFileName = \"config.yaml\"\n",
        "with open(yamlFileName, \"w\") as f:\n",
        "    f.write(yamlConfigSLERPLlamas)"
      ],
      "metadata": {
        "id": "mA1SMKrgQH39"
      },
      "execution_count": null,
      "outputs": []
    },
    {
      "cell_type": "markdown",
      "metadata": {
        "id": "ked5Gn7NLXuw"
      },
      "source": [
        "## Merge Models"
      ]
    },
    {
      "cell_type": "code",
      "source": [
        "os.system(f\"mergekit-yaml {yamlFileName} {OUTPUT_DIR} --allow-crimes --copy-tokenizer --out-shard-size 1B --low-cpu-memory --write-model-card --lazy-unpickle\")"
      ],
      "metadata": {
        "id": "gMVHXGSOQQE1"
      },
      "execution_count": null,
      "outputs": []
    },
    {
      "cell_type": "markdown",
      "source": [
        "## Load the Blended Model"
      ],
      "metadata": {
        "id": "4L0QOodMQdkL"
      }
    },
    {
      "cell_type": "code",
      "source": [
        "# Step 6: Load the merged model and tokenizer\n",
        "loadModel = f\"{OUTPUT_DIR}/{MODEL_NAME}\"\n",
        "\n",
        "tokenizer = AutoTokenizer.from_pretrained(loadModel)\n",
        "model = AutoModelWithLMHead.from_pretrained(loadModel)\n",
        "\n",
        "# Step 7: Run inference on the merged model\n",
        "generator = pipeline(\"text-generation\", model=model, tokenizer=tokenizer)\n",
        "input_text = \"def calculate_sum(num1, num2):\\n    # Code to be generated\"\n",
        "generated_text = generator(input_text, max_length=50, num_return_sequences=1)[0][\"generated_text\"]\n",
        "print(\"Generated Code:\", generated_text)"
      ],
      "metadata": {
        "id": "QQL6XH40QgEs"
      },
      "execution_count": null,
      "outputs": []
    }
  ],
  "metadata": {
    "colab": {
      "provenance": [],
      "include_colab_link": true
    },
    "kernelspec": {
      "display_name": "Python 3",
      "name": "python3"
    },
    "language_info": {
      "codemirror_mode": {
        "name": "ipython",
        "version": 3
      },
      "file_extension": ".py",
      "mimetype": "text/x-python",
      "name": "python",
      "nbconvert_exporter": "python",
      "pygments_lexer": "ipython3",
      "version": "3.12.2"
    }
  },
  "nbformat": 4,
  "nbformat_minor": 0
}