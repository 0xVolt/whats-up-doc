{
 "cells": [
  {
   "cell_type": "code",
   "execution_count": 1,
   "metadata": {},
   "outputs": [
    {
     "name": "stderr",
     "output_type": "stream",
     "text": [
      "c:\\Users\\deshi\\anaconda3\\envs\\py39-torch\\lib\\site-packages\\tqdm\\auto.py:21: TqdmWarning: IProgress not found. Please update jupyter and ipywidgets. See https://ipywidgets.readthedocs.io/en/stable/user_install.html\n",
      "  from .autonotebook import tqdm as notebook_tqdm\n"
     ]
    }
   ],
   "source": [
    "from utils import *"
   ]
  },
  {
   "cell_type": "code",
   "execution_count": 6,
   "metadata": {},
   "outputs": [],
   "source": [
    "path = r\"C:\\Users\\deshi\\Code\\whats-up-doc\\src\\test.py\"\n",
    "functionBodies = parser_utils.extractFunctionsAsList(path)"
   ]
  },
  {
   "cell_type": "code",
   "execution_count": 7,
   "metadata": {},
   "outputs": [
    {
     "data": {
      "text/plain": [
       "2"
      ]
     },
     "execution_count": 7,
     "metadata": {},
     "output_type": "execute_result"
    }
   ],
   "source": [
    "len(functionBodies)"
   ]
  },
  {
   "cell_type": "code",
   "execution_count": 8,
   "metadata": {},
   "outputs": [
    {
     "name": "stdout",
     "output_type": "stream",
     "text": [
      "def readFile(path):\n",
      "    '''\n",
      "    Open a specified script file in read mode and return it's contents as a string.\n",
      "\n",
      "    Argument(s):\n",
      "    path (string) - path to the file to be read\n",
      "\n",
      "    Output(s):\n",
      "    code (string) - contents of the script file\n",
      "    '''\n",
      "    with open(path, 'r') as fin:\n",
      "        code = fin.read()\n",
      "\n",
      "    return code\n",
      "def pythonTokenizer(line):\n",
      "    '''\n",
      "    Tokenize a python script file and replace code with abstracted syntax to then pass to a model inference point.\n",
      "\n",
      "    Argument(s):\n",
      "    line (string) - Python code passed to tokenize\n",
      "\n",
      "    Output(s):\n",
      "    result (string) - Result of the tokenized Python code\n",
      "    '''\n",
      "    import io\n",
      "    import tokenize\n",
      "\n",
      "    result = []\n",
      "    line = io.StringIO(line)\n",
      "\n",
      "    for tokenType, token, start, end, line in tokenize.generate_tokens(line.readline):\n",
      "        if (not tokenType == tokenize.COMMENT):\n",
      "            if tokenType == tokenize.STRING:\n",
      "                result.append('CODE_STRING')\n",
      "            elif tokenType == tokenize.NUMBER:\n",
      "                result.append('CODE_INTEGER')\n",
      "            elif (not token == '\\n') and (not token == '    '):\n",
      "                result.append(str(token))\n",
      "\n",
      "    result = ' '.join(result)\n"
     ]
    }
   ],
   "source": [
    "for fn in functionBodies:\n",
    "    print(str(fn))"
   ]
  },
  {
   "cell_type": "code",
   "execution_count": 9,
   "metadata": {},
   "outputs": [],
   "source": [
    "model = 'mistral-7b-instruct'"
   ]
  },
  {
   "cell_type": "code",
   "execution_count": 10,
   "metadata": {},
   "outputs": [],
   "source": [
    "llmChain = model_utils.setupLangChain(model)"
   ]
  },
  {
   "cell_type": "code",
   "execution_count": 14,
   "metadata": {},
   "outputs": [
    {
     "data": {
      "text/plain": [
       "\"def readFile(path):\\n    '''\\n    Open a specified script file in read mode and return it's contents as a string.\\n\\n    Argument(s):\\n    path (string) - path to the file to be read\\n\\n    Output(s):\\n    code (string) - contents of the script file\\n    '''\\n    with open(path, 'r') as fin:\\n        code = fin.read()\\n\\n    return code\""
      ]
     },
     "execution_count": 14,
     "metadata": {},
     "output_type": "execute_result"
    }
   ],
   "source": [
    "functionBodies[0]"
   ]
  },
  {
   "cell_type": "code",
   "execution_count": 12,
   "metadata": {},
   "outputs": [
    {
     "name": "stdout",
     "output_type": "stream",
     "text": [
      "\n",
      "    '''"
     ]
    },
    {
     "data": {
      "text/plain": [
       "\"\\n    '''\""
      ]
     },
     "execution_count": 12,
     "metadata": {},
     "output_type": "execute_result"
    }
   ],
   "source": [
    "llmChain.run({'function': functionBodies[0]})"
   ]
  },
  {
   "cell_type": "code",
   "execution_count": null,
   "metadata": {},
   "outputs": [],
   "source": []
  }
 ],
 "metadata": {
  "kernelspec": {
   "display_name": "py39-torch",
   "language": "python",
   "name": "python3"
  },
  "language_info": {
   "codemirror_mode": {
    "name": "ipython",
    "version": 3
   },
   "file_extension": ".py",
   "mimetype": "text/x-python",
   "name": "python",
   "nbconvert_exporter": "python",
   "pygments_lexer": "ipython3",
   "version": "3.9.18"
  }
 },
 "nbformat": 4,
 "nbformat_minor": 2
}
