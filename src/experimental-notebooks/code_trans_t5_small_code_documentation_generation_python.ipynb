{
 "cells": [
  {
   "cell_type": "markdown",
   "metadata": {},
   "source": [
    "# CodeTransT5-Small-ST-TF for Python\n",
    "\n",
    "This notebook explores the CodeTrans model which is based on the T5 model's architecture. This particular model uses the T5-Small skeleton and is built for the purpose of a single task (ST), to generate code documentation for Python. This notebook will first use the model from HuggingFace and then attempt to fine-tune it (FT) on the [`python_code_instructions_18k_alpaca`](https://huggingface.co/datasets/iamtarun/python_code_instructions_18k_alpaca/viewer/default/train).\n",
    "\n",
    "---"
   ]
  },
  {
   "cell_type": "code",
   "execution_count": 1,
   "metadata": {},
   "outputs": [
    {
     "name": "stderr",
     "output_type": "stream",
     "text": [
      "c:\\ProgramData\\anaconda3\\envs\\python-3.8\\lib\\site-packages\\tqdm\\auto.py:21: TqdmWarning: IProgress not found. Please update jupyter and ipywidgets. See https://ipywidgets.readthedocs.io/en/stable/user_install.html\n",
      "  from .autonotebook import tqdm as notebook_tqdm\n"
     ]
    }
   ],
   "source": [
    "import tensorflow as tf\n",
    "import torch\n",
    "import pandas as pd\n",
    "from datasets import load_dataset\n",
    "from utils import checkGPU"
   ]
  },
  {
   "cell_type": "code",
   "execution_count": 2,
   "metadata": {},
   "outputs": [
    {
     "name": "stdout",
     "output_type": "stream",
     "text": [
      "Number of GPUs available with tensorflow: 0\n",
      "Checking if the GPU is available with PyTorch: True\n"
     ]
    },
    {
     "data": {
      "text/plain": [
       "(None, None)"
      ]
     },
     "execution_count": 2,
     "metadata": {},
     "output_type": "execute_result"
    }
   ],
   "source": [
    "checkGPU(tensorflow=True), checkGPU(tensorflow=False)"
   ]
  },
  {
   "cell_type": "code",
   "execution_count": 3,
   "metadata": {},
   "outputs": [
    {
     "name": "stderr",
     "output_type": "stream",
     "text": [
      "Downloading readme: 100%|██████████| 1.28k/1.28k [00:00<?, ?B/s]\n",
      "Downloading data: 100%|██████████| 29.5M/29.5M [00:17<00:00, 1.69MB/s]\n",
      "Downloading data files: 100%|██████████| 1/1 [00:17<00:00, 17.55s/it]\n",
      "Extracting data files: 100%|██████████| 1/1 [00:00<00:00, 29.99it/s]\n",
      "Generating train split: 27332 examples [00:00, 176759.12 examples/s]\n"
     ]
    }
   ],
   "source": [
    "# dataset = load_dataset('iamtarun/python_code_instructions_18k_alpaca')\n",
    "dataset = load_dataset(\"flytech/llama-python-codes-30k\")\n",
    "dataset = dataset['train'].to_pandas()"
   ]
  },
  {
   "cell_type": "code",
   "execution_count": 5,
   "metadata": {},
   "outputs": [
    {
     "data": {
      "text/html": [
       "<div>\n",
       "<style scoped>\n",
       "    .dataframe tbody tr th:only-of-type {\n",
       "        vertical-align: middle;\n",
       "    }\n",
       "\n",
       "    .dataframe tbody tr th {\n",
       "        vertical-align: top;\n",
       "    }\n",
       "\n",
       "    .dataframe thead th {\n",
       "        text-align: right;\n",
       "    }\n",
       "</style>\n",
       "<table border=\"1\" class=\"dataframe\">\n",
       "  <thead>\n",
       "    <tr style=\"text-align: right;\">\n",
       "      <th></th>\n",
       "      <th>instruction</th>\n",
       "      <th>input</th>\n",
       "      <th>output</th>\n",
       "      <th>text</th>\n",
       "    </tr>\n",
       "  </thead>\n",
       "  <tbody>\n",
       "    <tr>\n",
       "      <th>27327</th>\n",
       "      <td>[INST]Fix the code: import sys\\nsys.getsizeof(...</td>\n",
       "      <td>Improve the code to handle different types and...</td>\n",
       "      <td>```python\\nimport sys\\n\\ndef get_sizeof(obj):\\...</td>\n",
       "      <td>&lt;s&gt;[INST]Fix the code: import sys\\nsys.getsize...</td>\n",
       "    </tr>\n",
       "    <tr>\n",
       "      <th>27328</th>\n",
       "      <td>[INST]Fix the code: import sys\\nsys.path.appen...</td>\n",
       "      <td>Refine the code to validate the directory path...</td>\n",
       "      <td>```python\\nimport sys\\nimport os\\n\\ndef append...</td>\n",
       "      <td>&lt;s&gt;[INST]Fix the code: import sys\\nsys.path.ap...</td>\n",
       "    </tr>\n",
       "    <tr>\n",
       "      <th>27329</th>\n",
       "      <td>[INST]Fix the code: import bluetooth\\nnearby_d...</td>\n",
       "      <td>Refactor the Bluetooth device discovery functi...</td>\n",
       "      <td>```python\\nimport bluetooth\\n\\ndef discover_bl...</td>\n",
       "      <td>&lt;s&gt;[INST]Fix the code: import bluetooth\\nnearb...</td>\n",
       "    </tr>\n",
       "    <tr>\n",
       "      <th>27330</th>\n",
       "      <td>[INST]Fix the code: from youtubesearchpython i...</td>\n",
       "      <td>Modify the function to fetch additional video ...</td>\n",
       "      <td>```python\\nfrom youtubesearchpython import Vid...</td>\n",
       "      <td>&lt;s&gt;[INST]Fix the code: from youtubesearchpytho...</td>\n",
       "    </tr>\n",
       "    <tr>\n",
       "      <th>27331</th>\n",
       "      <td>[INST]Fix the code: from youtubesearchpython i...</td>\n",
       "      <td>Extend the function to retrieve not just the c...</td>\n",
       "      <td>```python\\nfrom youtubesearchpython import Cha...</td>\n",
       "      <td>&lt;s&gt;[INST]Fix the code: from youtubesearchpytho...</td>\n",
       "    </tr>\n",
       "  </tbody>\n",
       "</table>\n",
       "</div>"
      ],
      "text/plain": [
       "                                             instruction  \\\n",
       "27327  [INST]Fix the code: import sys\\nsys.getsizeof(...   \n",
       "27328  [INST]Fix the code: import sys\\nsys.path.appen...   \n",
       "27329  [INST]Fix the code: import bluetooth\\nnearby_d...   \n",
       "27330  [INST]Fix the code: from youtubesearchpython i...   \n",
       "27331  [INST]Fix the code: from youtubesearchpython i...   \n",
       "\n",
       "                                                   input  \\\n",
       "27327  Improve the code to handle different types and...   \n",
       "27328  Refine the code to validate the directory path...   \n",
       "27329  Refactor the Bluetooth device discovery functi...   \n",
       "27330  Modify the function to fetch additional video ...   \n",
       "27331  Extend the function to retrieve not just the c...   \n",
       "\n",
       "                                                  output  \\\n",
       "27327  ```python\\nimport sys\\n\\ndef get_sizeof(obj):\\...   \n",
       "27328  ```python\\nimport sys\\nimport os\\n\\ndef append...   \n",
       "27329  ```python\\nimport bluetooth\\n\\ndef discover_bl...   \n",
       "27330  ```python\\nfrom youtubesearchpython import Vid...   \n",
       "27331  ```python\\nfrom youtubesearchpython import Cha...   \n",
       "\n",
       "                                                    text  \n",
       "27327  <s>[INST]Fix the code: import sys\\nsys.getsize...  \n",
       "27328  <s>[INST]Fix the code: import sys\\nsys.path.ap...  \n",
       "27329  <s>[INST]Fix the code: import bluetooth\\nnearb...  \n",
       "27330  <s>[INST]Fix the code: from youtubesearchpytho...  \n",
       "27331  <s>[INST]Fix the code: from youtubesearchpytho...  "
      ]
     },
     "execution_count": 5,
     "metadata": {},
     "output_type": "execute_result"
    }
   ],
   "source": [
    "dataset.tail()"
   ]
  },
  {
   "cell_type": "code",
   "execution_count": null,
   "metadata": {},
   "outputs": [],
   "source": []
  }
 ],
 "metadata": {
  "kernelspec": {
   "display_name": "major-project-1",
   "language": "python",
   "name": "python3"
  },
  "language_info": {
   "codemirror_mode": {
    "name": "ipython",
    "version": 3
   },
   "file_extension": ".py",
   "mimetype": "text/x-python",
   "name": "python",
   "nbconvert_exporter": "python",
   "pygments_lexer": "ipython3",
   "version": "3.8.18"
  }
 },
 "nbformat": 4,
 "nbformat_minor": 2
}
