{
 "cells": [
  {
   "cell_type": "markdown",
   "metadata": {},
   "source": [
    "# Fine-tuning the DistilBERT Model from HuggingFace\n",
    "\n",
    "---"
   ]
  },
  {
   "cell_type": "code",
   "execution_count": 13,
   "metadata": {},
   "outputs": [],
   "source": [
    "import tensorflow as tf\n",
    "import torch\n",
    "import pandas as pd\n",
    "from datasets import load_dataset\n",
    "from utils import checkGPU"
   ]
  },
  {
   "cell_type": "code",
   "execution_count": 14,
   "metadata": {},
   "outputs": [
    {
     "name": "stdout",
     "output_type": "stream",
     "text": [
      "Number of GPUs available with tensorflow: 1\n",
      "Checking if the GPU is available with PyTorch: True\n"
     ]
    },
    {
     "data": {
      "text/plain": [
       "(None, None)"
      ]
     },
     "execution_count": 14,
     "metadata": {},
     "output_type": "execute_result"
    }
   ],
   "source": [
    "checkGPU(tensorflow=True), checkGPU(tensorflow=False)"
   ]
  },
  {
   "cell_type": "code",
   "execution_count": 15,
   "metadata": {},
   "outputs": [],
   "source": [
    "dataset = load_dataset('iamtarun/python_code_instructions_18k_alpaca')\n",
    "dataset = dataset['train'].to_pandas()"
   ]
  },
  {
   "cell_type": "code",
   "execution_count": 17,
   "metadata": {},
   "outputs": [
    {
     "data": {
      "text/html": [
       "<div>\n",
       "<style scoped>\n",
       "    .dataframe tbody tr th:only-of-type {\n",
       "        vertical-align: middle;\n",
       "    }\n",
       "\n",
       "    .dataframe tbody tr th {\n",
       "        vertical-align: top;\n",
       "    }\n",
       "\n",
       "    .dataframe thead th {\n",
       "        text-align: right;\n",
       "    }\n",
       "</style>\n",
       "<table border=\"1\" class=\"dataframe\">\n",
       "  <thead>\n",
       "    <tr style=\"text-align: right;\">\n",
       "      <th></th>\n",
       "      <th>instruction</th>\n",
       "      <th>input</th>\n",
       "      <th>output</th>\n",
       "      <th>prompt</th>\n",
       "    </tr>\n",
       "  </thead>\n",
       "  <tbody>\n",
       "    <tr>\n",
       "      <th>0</th>\n",
       "      <td>Create a function to calculate the sum of a se...</td>\n",
       "      <td>[1, 2, 3, 4, 5]</td>\n",
       "      <td># Python code\\ndef sum_sequence(sequence):\\n  ...</td>\n",
       "      <td>Below is an instruction that describes a task....</td>\n",
       "    </tr>\n",
       "    <tr>\n",
       "      <th>1</th>\n",
       "      <td>Generate a Python code for crawling a website ...</td>\n",
       "      <td>website: www.example.com \\ndata to crawl: phon...</td>\n",
       "      <td>import requests\\nimport re\\n\\ndef crawl_websit...</td>\n",
       "      <td>Below is an instruction that describes a task....</td>\n",
       "    </tr>\n",
       "    <tr>\n",
       "      <th>2</th>\n",
       "      <td>Create a Python list comprehension to get the ...</td>\n",
       "      <td></td>\n",
       "      <td>[x*x for x in [1, 2, 3, 5, 8, 13]]</td>\n",
       "      <td>Below is an instruction that describes a task....</td>\n",
       "    </tr>\n",
       "    <tr>\n",
       "      <th>3</th>\n",
       "      <td>Generate a python script to perform this action.</td>\n",
       "      <td>Given a string, remove all the consecutive dup...</td>\n",
       "      <td>def remove_duplicates(string): \\n    result = ...</td>\n",
       "      <td>Below is an instruction that describes a task....</td>\n",
       "    </tr>\n",
       "    <tr>\n",
       "      <th>4</th>\n",
       "      <td>Write a python script to generates random numb...</td>\n",
       "      <td></td>\n",
       "      <td>def generate_random_divisible_number():\\n    i...</td>\n",
       "      <td>Below is an instruction that describes a task....</td>\n",
       "    </tr>\n",
       "    <tr>\n",
       "      <th>...</th>\n",
       "      <td>...</td>\n",
       "      <td>...</td>\n",
       "      <td>...</td>\n",
       "      <td>...</td>\n",
       "    </tr>\n",
       "    <tr>\n",
       "      <th>18607</th>\n",
       "      <td>Generate a loop in Python which iterates throu...</td>\n",
       "      <td></td>\n",
       "      <td>for value in list_of_values:\\n    print(value)</td>\n",
       "      <td>Below is an instruction that describes a task....</td>\n",
       "    </tr>\n",
       "    <tr>\n",
       "      <th>18608</th>\n",
       "      <td>Can you design a function in Python to sort a ...</td>\n",
       "      <td>tuples = [(\"b\", 0), (\"a\", 1), (\"c\", -1)]</td>\n",
       "      <td>def sort_tuple(tuples):\\n    # sort by 2nd ite...</td>\n",
       "      <td>Below is an instruction that describes a task....</td>\n",
       "    </tr>\n",
       "    <tr>\n",
       "      <th>18609</th>\n",
       "      <td>Generate a Python function to search an array ...</td>\n",
       "      <td>Array = [1, 5, 10, 15, 20], Target = 15</td>\n",
       "      <td>def search(array, target):\\n # Iterate over ar...</td>\n",
       "      <td>Below is an instruction that describes a task....</td>\n",
       "    </tr>\n",
       "    <tr>\n",
       "      <th>18610</th>\n",
       "      <td>Develop an HTTP API in Python to retrieve the ...</td>\n",
       "      <td></td>\n",
       "      <td>import requests\\nfrom bs4 import BeautifulSoup...</td>\n",
       "      <td>Below is an instruction that describes a task....</td>\n",
       "    </tr>\n",
       "    <tr>\n",
       "      <th>18611</th>\n",
       "      <td>Create a classification algorithm in Python to...</td>\n",
       "      <td></td>\n",
       "      <td># Import Python libraries\\nimport numpy as np\\...</td>\n",
       "      <td>Below is an instruction that describes a task....</td>\n",
       "    </tr>\n",
       "  </tbody>\n",
       "</table>\n",
       "<p>18612 rows × 4 columns</p>\n",
       "</div>"
      ],
      "text/plain": [
       "                                             instruction  \\\n",
       "0      Create a function to calculate the sum of a se...   \n",
       "1      Generate a Python code for crawling a website ...   \n",
       "2      Create a Python list comprehension to get the ...   \n",
       "3       Generate a python script to perform this action.   \n",
       "4      Write a python script to generates random numb...   \n",
       "...                                                  ...   \n",
       "18607  Generate a loop in Python which iterates throu...   \n",
       "18608  Can you design a function in Python to sort a ...   \n",
       "18609  Generate a Python function to search an array ...   \n",
       "18610  Develop an HTTP API in Python to retrieve the ...   \n",
       "18611  Create a classification algorithm in Python to...   \n",
       "\n",
       "                                                   input  \\\n",
       "0                                        [1, 2, 3, 4, 5]   \n",
       "1      website: www.example.com \\ndata to crawl: phon...   \n",
       "2                                                          \n",
       "3      Given a string, remove all the consecutive dup...   \n",
       "4                                                          \n",
       "...                                                  ...   \n",
       "18607                                                      \n",
       "18608           tuples = [(\"b\", 0), (\"a\", 1), (\"c\", -1)]   \n",
       "18609            Array = [1, 5, 10, 15, 20], Target = 15   \n",
       "18610                                                      \n",
       "18611                                                      \n",
       "\n",
       "                                                  output  \\\n",
       "0      # Python code\\ndef sum_sequence(sequence):\\n  ...   \n",
       "1      import requests\\nimport re\\n\\ndef crawl_websit...   \n",
       "2                     [x*x for x in [1, 2, 3, 5, 8, 13]]   \n",
       "3      def remove_duplicates(string): \\n    result = ...   \n",
       "4      def generate_random_divisible_number():\\n    i...   \n",
       "...                                                  ...   \n",
       "18607     for value in list_of_values:\\n    print(value)   \n",
       "18608  def sort_tuple(tuples):\\n    # sort by 2nd ite...   \n",
       "18609  def search(array, target):\\n # Iterate over ar...   \n",
       "18610  import requests\\nfrom bs4 import BeautifulSoup...   \n",
       "18611  # Import Python libraries\\nimport numpy as np\\...   \n",
       "\n",
       "                                                  prompt  \n",
       "0      Below is an instruction that describes a task....  \n",
       "1      Below is an instruction that describes a task....  \n",
       "2      Below is an instruction that describes a task....  \n",
       "3      Below is an instruction that describes a task....  \n",
       "4      Below is an instruction that describes a task....  \n",
       "...                                                  ...  \n",
       "18607  Below is an instruction that describes a task....  \n",
       "18608  Below is an instruction that describes a task....  \n",
       "18609  Below is an instruction that describes a task....  \n",
       "18610  Below is an instruction that describes a task....  \n",
       "18611  Below is an instruction that describes a task....  \n",
       "\n",
       "[18612 rows x 4 columns]"
      ]
     },
     "execution_count": 17,
     "metadata": {},
     "output_type": "execute_result"
    }
   ],
   "source": [
    "dataset"
   ]
  },
  {
   "cell_type": "code",
   "execution_count": null,
   "metadata": {},
   "outputs": [],
   "source": []
  }
 ],
 "metadata": {
  "kernelspec": {
   "display_name": "major-project-1",
   "language": "python",
   "name": "python3"
  },
  "language_info": {
   "codemirror_mode": {
    "name": "ipython",
    "version": 3
   },
   "file_extension": ".py",
   "mimetype": "text/x-python",
   "name": "python",
   "nbconvert_exporter": "python",
   "pygments_lexer": "ipython3",
   "version": "3.8.18"
  }
 },
 "nbformat": 4,
 "nbformat_minor": 2
}
